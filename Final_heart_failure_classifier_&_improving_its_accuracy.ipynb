{
  "nbformat": 4,
  "nbformat_minor": 0,
  "metadata": {
    "colab": {
      "name": "Final heart failure classifier & improving its accuracy",
      "provenance": [],
      "collapsed_sections": []
    },
    "kernelspec": {
      "name": "python3",
      "display_name": "Python 3"
    },
    "language_info": {
      "name": "python"
    }
  },
  "cells": [
    {
      "cell_type": "code",
      "metadata": {
        "id": "dYIt-8-iHRvw"
      },
      "source": [
        "import numpy as np \n",
        "import pandas as pd \n",
        "\n",
        "import matplotlib.pyplot as plt\n",
        "import seaborn as sns\n",
        "\n",
        "from sklearn import linear_model\n",
        "from sklearn import preprocessing\n",
        "from sklearn.linear_model import LinearRegression\n",
        "from sklearn.linear_model import LogisticRegression\n",
        "from sklearn.ensemble import RandomForestClassifier\n",
        "from sklearn.tree import DecisionTreeClassifier\n",
        "from sklearn.ensemble import GradientBoostingClassifier\n",
        "\n",
        "from sklearn.model_selection import train_test_split\n",
        "from sklearn.model_selection import cross_val_score\n",
        "\n",
        "url = 'https://github.com/millenopan/Cardiovascular-Health-Project/blob/main/processed-cleveland.csv?raw=true'\n",
        "hd = pd.read_csv(url)\n",
        "hd.target = hd.target.replace({2:1, 3:1, 4:1})\n",
        "url = 'https://github.com/millenopan/Cardiovascular-Health-Project/blob/main/heart-failure.csv?raw=true'\n",
        "hf = pd.read_csv(url)\n",
        "from sklearn.metrics import confusion_matrix, accuracy_score, plot_roc_curve, classification_report"
      ],
      "execution_count": null,
      "outputs": []
    },
    {
      "cell_type": "code",
      "metadata": {
        "colab": {
          "base_uri": "https://localhost:8080/",
          "height": 439
        },
        "id": "bt5JhnAgHXMM",
        "outputId": "b4f91314-af06-4a0e-d113-889cc7ee44b9"
      },
      "source": [
        "hf"
      ],
      "execution_count": null,
      "outputs": [
        {
          "output_type": "execute_result",
          "data": {
            "text/html": [
              "<div>\n",
              "<style scoped>\n",
              "    .dataframe tbody tr th:only-of-type {\n",
              "        vertical-align: middle;\n",
              "    }\n",
              "\n",
              "    .dataframe tbody tr th {\n",
              "        vertical-align: top;\n",
              "    }\n",
              "\n",
              "    .dataframe thead th {\n",
              "        text-align: right;\n",
              "    }\n",
              "</style>\n",
              "<table border=\"1\" class=\"dataframe\">\n",
              "  <thead>\n",
              "    <tr style=\"text-align: right;\">\n",
              "      <th></th>\n",
              "      <th>age</th>\n",
              "      <th>anaemia</th>\n",
              "      <th>creatinine_phosphokinase</th>\n",
              "      <th>diabetes</th>\n",
              "      <th>ejection_fraction</th>\n",
              "      <th>high_blood_pressure</th>\n",
              "      <th>platelets</th>\n",
              "      <th>serum_creatinine</th>\n",
              "      <th>serum_sodium</th>\n",
              "      <th>sex</th>\n",
              "      <th>smoking</th>\n",
              "      <th>time</th>\n",
              "      <th>DEATH_EVENT</th>\n",
              "    </tr>\n",
              "  </thead>\n",
              "  <tbody>\n",
              "    <tr>\n",
              "      <th>0</th>\n",
              "      <td>75.0</td>\n",
              "      <td>0</td>\n",
              "      <td>582</td>\n",
              "      <td>0</td>\n",
              "      <td>20</td>\n",
              "      <td>1</td>\n",
              "      <td>265000.00</td>\n",
              "      <td>1.9</td>\n",
              "      <td>130</td>\n",
              "      <td>1</td>\n",
              "      <td>0</td>\n",
              "      <td>4</td>\n",
              "      <td>1</td>\n",
              "    </tr>\n",
              "    <tr>\n",
              "      <th>1</th>\n",
              "      <td>55.0</td>\n",
              "      <td>0</td>\n",
              "      <td>7861</td>\n",
              "      <td>0</td>\n",
              "      <td>38</td>\n",
              "      <td>0</td>\n",
              "      <td>263358.03</td>\n",
              "      <td>1.1</td>\n",
              "      <td>136</td>\n",
              "      <td>1</td>\n",
              "      <td>0</td>\n",
              "      <td>6</td>\n",
              "      <td>1</td>\n",
              "    </tr>\n",
              "    <tr>\n",
              "      <th>2</th>\n",
              "      <td>65.0</td>\n",
              "      <td>0</td>\n",
              "      <td>146</td>\n",
              "      <td>0</td>\n",
              "      <td>20</td>\n",
              "      <td>0</td>\n",
              "      <td>162000.00</td>\n",
              "      <td>1.3</td>\n",
              "      <td>129</td>\n",
              "      <td>1</td>\n",
              "      <td>1</td>\n",
              "      <td>7</td>\n",
              "      <td>1</td>\n",
              "    </tr>\n",
              "    <tr>\n",
              "      <th>3</th>\n",
              "      <td>50.0</td>\n",
              "      <td>1</td>\n",
              "      <td>111</td>\n",
              "      <td>0</td>\n",
              "      <td>20</td>\n",
              "      <td>0</td>\n",
              "      <td>210000.00</td>\n",
              "      <td>1.9</td>\n",
              "      <td>137</td>\n",
              "      <td>1</td>\n",
              "      <td>0</td>\n",
              "      <td>7</td>\n",
              "      <td>1</td>\n",
              "    </tr>\n",
              "    <tr>\n",
              "      <th>4</th>\n",
              "      <td>65.0</td>\n",
              "      <td>1</td>\n",
              "      <td>160</td>\n",
              "      <td>1</td>\n",
              "      <td>20</td>\n",
              "      <td>0</td>\n",
              "      <td>327000.00</td>\n",
              "      <td>2.7</td>\n",
              "      <td>116</td>\n",
              "      <td>0</td>\n",
              "      <td>0</td>\n",
              "      <td>8</td>\n",
              "      <td>1</td>\n",
              "    </tr>\n",
              "    <tr>\n",
              "      <th>...</th>\n",
              "      <td>...</td>\n",
              "      <td>...</td>\n",
              "      <td>...</td>\n",
              "      <td>...</td>\n",
              "      <td>...</td>\n",
              "      <td>...</td>\n",
              "      <td>...</td>\n",
              "      <td>...</td>\n",
              "      <td>...</td>\n",
              "      <td>...</td>\n",
              "      <td>...</td>\n",
              "      <td>...</td>\n",
              "      <td>...</td>\n",
              "    </tr>\n",
              "    <tr>\n",
              "      <th>294</th>\n",
              "      <td>62.0</td>\n",
              "      <td>0</td>\n",
              "      <td>61</td>\n",
              "      <td>1</td>\n",
              "      <td>38</td>\n",
              "      <td>1</td>\n",
              "      <td>155000.00</td>\n",
              "      <td>1.1</td>\n",
              "      <td>143</td>\n",
              "      <td>1</td>\n",
              "      <td>1</td>\n",
              "      <td>270</td>\n",
              "      <td>0</td>\n",
              "    </tr>\n",
              "    <tr>\n",
              "      <th>295</th>\n",
              "      <td>55.0</td>\n",
              "      <td>0</td>\n",
              "      <td>1820</td>\n",
              "      <td>0</td>\n",
              "      <td>38</td>\n",
              "      <td>0</td>\n",
              "      <td>270000.00</td>\n",
              "      <td>1.2</td>\n",
              "      <td>139</td>\n",
              "      <td>0</td>\n",
              "      <td>0</td>\n",
              "      <td>271</td>\n",
              "      <td>0</td>\n",
              "    </tr>\n",
              "    <tr>\n",
              "      <th>296</th>\n",
              "      <td>45.0</td>\n",
              "      <td>0</td>\n",
              "      <td>2060</td>\n",
              "      <td>1</td>\n",
              "      <td>60</td>\n",
              "      <td>0</td>\n",
              "      <td>742000.00</td>\n",
              "      <td>0.8</td>\n",
              "      <td>138</td>\n",
              "      <td>0</td>\n",
              "      <td>0</td>\n",
              "      <td>278</td>\n",
              "      <td>0</td>\n",
              "    </tr>\n",
              "    <tr>\n",
              "      <th>297</th>\n",
              "      <td>45.0</td>\n",
              "      <td>0</td>\n",
              "      <td>2413</td>\n",
              "      <td>0</td>\n",
              "      <td>38</td>\n",
              "      <td>0</td>\n",
              "      <td>140000.00</td>\n",
              "      <td>1.4</td>\n",
              "      <td>140</td>\n",
              "      <td>1</td>\n",
              "      <td>1</td>\n",
              "      <td>280</td>\n",
              "      <td>0</td>\n",
              "    </tr>\n",
              "    <tr>\n",
              "      <th>298</th>\n",
              "      <td>50.0</td>\n",
              "      <td>0</td>\n",
              "      <td>196</td>\n",
              "      <td>0</td>\n",
              "      <td>45</td>\n",
              "      <td>0</td>\n",
              "      <td>395000.00</td>\n",
              "      <td>1.6</td>\n",
              "      <td>136</td>\n",
              "      <td>1</td>\n",
              "      <td>1</td>\n",
              "      <td>285</td>\n",
              "      <td>0</td>\n",
              "    </tr>\n",
              "  </tbody>\n",
              "</table>\n",
              "<p>299 rows × 13 columns</p>\n",
              "</div>"
            ],
            "text/plain": [
              "      age  anaemia  creatinine_phosphokinase  ...  smoking  time  DEATH_EVENT\n",
              "0    75.0        0                       582  ...        0     4            1\n",
              "1    55.0        0                      7861  ...        0     6            1\n",
              "2    65.0        0                       146  ...        1     7            1\n",
              "3    50.0        1                       111  ...        0     7            1\n",
              "4    65.0        1                       160  ...        0     8            1\n",
              "..    ...      ...                       ...  ...      ...   ...          ...\n",
              "294  62.0        0                        61  ...        1   270            0\n",
              "295  55.0        0                      1820  ...        0   271            0\n",
              "296  45.0        0                      2060  ...        0   278            0\n",
              "297  45.0        0                      2413  ...        1   280            0\n",
              "298  50.0        0                       196  ...        1   285            0\n",
              "\n",
              "[299 rows x 13 columns]"
            ]
          },
          "metadata": {
            "tags": []
          },
          "execution_count": 3
        }
      ]
    },
    {
      "cell_type": "code",
      "metadata": {
        "id": "d8NjZvrVX1kQ"
      },
      "source": [
        "from sklearn.svm import SVC\n",
        "from sklearn.decomposition import PCA"
      ],
      "execution_count": null,
      "outputs": []
    },
    {
      "cell_type": "code",
      "metadata": {
        "colab": {
          "base_uri": "https://localhost:8080/"
        },
        "id": "CUuSCWyMXkiV",
        "outputId": "f349d4dd-9323-4dd1-a13a-d8c1d69668a2"
      },
      "source": [
        "x = hf.drop(['DEATH_EVENT'], axis = 1)\n",
        "y = hf.DEATH_EVENT\n",
        "training_x, testing_x, training_y, testing_y = train_test_split(x,y, test_size=0.2, random_state=85)\n",
        "svc = SVC()\n",
        "svc.fit(training_x, training_y)\n",
        "svc_training_pred = svc.predict(training_x)\n",
        "svc_testing_pred = svc.predict(testing_x)\n",
        "\n",
        "pca = PCA(n_components=4)\n",
        "training_x_pca = pca.fit_transform(training_x)\n",
        "testing_x_pca = pca.transform(testing_x)\n",
        "\n",
        "explained_variance = pca.explained_variance_ratio_\n",
        "print(explained_variance)\n",
        "\n",
        "svc_confusion_mat = confusion_matrix(testing_y, svc_testing_pred)\n",
        "svc_accuracy = accuracy_score(testing_y, svc_testing_pred)\n",
        "print(\"Confusion matrix:\")\n",
        "print(svc_confusion_mat)\n",
        "print(\"Accuracy: \" + str(svc_accuracy))\n",
        "\n",
        "report = classification_report(testing_y, svc_testing_pred)\n",
        "print(\"Report of this classification\")\n",
        "print(report)"
      ],
      "execution_count": null,
      "outputs": [
        {
          "output_type": "stream",
          "text": [
            "[9.99893394e-01 1.05931792e-04 6.44290933e-07 1.58194606e-08]\n",
            "Confusion matrix:\n",
            "[[46  0]\n",
            " [14  0]]\n",
            "Accuracy: 0.7666666666666667\n",
            "Report of this classification\n",
            "              precision    recall  f1-score   support\n",
            "\n",
            "           0       0.77      1.00      0.87        46\n",
            "           1       0.00      0.00      0.00        14\n",
            "\n",
            "    accuracy                           0.77        60\n",
            "   macro avg       0.38      0.50      0.43        60\n",
            "weighted avg       0.59      0.77      0.67        60\n",
            "\n"
          ],
          "name": "stdout"
        },
        {
          "output_type": "stream",
          "text": [
            "/usr/local/lib/python3.7/dist-packages/sklearn/metrics/_classification.py:1272: UndefinedMetricWarning: Precision and F-score are ill-defined and being set to 0.0 in labels with no predicted samples. Use `zero_division` parameter to control this behavior.\n",
            "  _warn_prf(average, modifier, msg_start, len(result))\n"
          ],
          "name": "stderr"
        }
      ]
    },
    {
      "cell_type": "markdown",
      "metadata": {
        "id": "b4G5YDy8YUS7"
      },
      "source": [
        "The accuracy without any modifications to the data is 76.7 percent. Next, we can try fitting the data to a Gradient Boosting classifier."
      ]
    },
    {
      "cell_type": "code",
      "metadata": {
        "colab": {
          "base_uri": "https://localhost:8080/"
        },
        "id": "FnLeNbsfYQaA",
        "outputId": "fbd7523b-c8e2-4c80-f836-a04f442150bc"
      },
      "source": [
        "from sklearn.ensemble import GradientBoostingClassifier\n",
        "gbc = GradientBoostingClassifier()\n",
        "gbc.fit(training_x, training_y)\n",
        "gb_training = gbc.predict(training_x)\n",
        "gb_testing = gbc.predict(testing_x)\n",
        "\n",
        "scores = cross_val_score(gbc, x, y, cv=40)\n",
        "print(\"Accuracy: %0.2f (+/- %0.2f)\" % (scores.mean(), scores.std() * 2))\n",
        "scores"
      ],
      "execution_count": null,
      "outputs": [
        {
          "output_type": "stream",
          "text": [
            "Accuracy: 0.80 (+/- 0.28)\n"
          ],
          "name": "stdout"
        },
        {
          "output_type": "execute_result",
          "data": {
            "text/plain": [
              "array([0.375     , 0.375     , 0.625     , 0.75      , 0.875     ,\n",
              "       1.        , 0.75      , 0.875     , 0.875     , 0.875     ,\n",
              "       0.875     , 0.875     , 0.875     , 0.75      , 1.        ,\n",
              "       0.875     , 0.875     , 1.        , 0.875     , 0.71428571,\n",
              "       0.71428571, 1.        , 0.85714286, 0.71428571, 0.71428571,\n",
              "       0.85714286, 0.85714286, 0.85714286, 0.85714286, 0.85714286,\n",
              "       0.57142857, 0.85714286, 0.71428571, 0.85714286, 0.71428571,\n",
              "       0.85714286, 0.71428571, 0.85714286, 0.71428571, 0.85714286])"
            ]
          },
          "metadata": {
            "tags": []
          },
          "execution_count": 14
        }
      ]
    },
    {
      "cell_type": "markdown",
      "metadata": {
        "id": "vDDz0DRBYGhQ"
      },
      "source": [
        "The accuracy is a little higher. But we'll now try logistic regression and see what that yields. "
      ]
    },
    {
      "cell_type": "code",
      "metadata": {
        "colab": {
          "base_uri": "https://localhost:8080/"
        },
        "id": "OYw1nEMGHnHf",
        "outputId": "99880a0f-a20f-4999-f8b3-51498baad4aa"
      },
      "source": [
        "x = hf.drop(['DEATH_EVENT'], axis = 1)\n",
        "y = hf.DEATH_EVENT\n",
        "training_x, testing_x , training_y, testing_y = train_test_split(x, y, test_size=0.2, random_state=85)\n",
        "lr = LogisticRegression(max_iter=2000)\n",
        "lr.fit(training_x, training_y)\n",
        "lr_train_prediction = lr.predict(training_x)\n",
        "lr_test_prediction = lr.predict(testing_x)\n",
        "print(\"Logistical regression accuracy:\")\n",
        "lr.score(testing_x, testing_y)\n",
        "\n",
        "confusion_mat = confusion_matrix(testing_y, lr_test_prediction)\n",
        "accuracy = accuracy_score(testing_y, lr_test_prediction)\n",
        "print(\"Confusion matrix:\")\n",
        "confusion_mat\n",
        "print(\"Accuracy: \" + str(accuracy))\n",
        "\n",
        "report = classification_report(testing_y, lr_test_prediction)\n",
        "print(\"Report of this classification\")\n",
        "print(report)"
      ],
      "execution_count": null,
      "outputs": [
        {
          "output_type": "stream",
          "text": [
            "Logistical regression accuracy:\n",
            "Confusion matrix:\n",
            "Accuracy: 0.8333333333333334\n",
            "Report of this classification\n",
            "              precision    recall  f1-score   support\n",
            "\n",
            "           0       0.91      0.87      0.89        46\n",
            "           1       0.62      0.71      0.67        14\n",
            "\n",
            "    accuracy                           0.83        60\n",
            "   macro avg       0.77      0.79      0.78        60\n",
            "weighted avg       0.84      0.83      0.84        60\n",
            "\n"
          ],
          "name": "stdout"
        }
      ]
    },
    {
      "cell_type": "markdown",
      "metadata": {
        "id": "yix6FkbYOHu1"
      },
      "source": [
        "The accuracy is 83.3 percent. Next, we will try increasing the test size to 0.3 and I will also change the fit intercept to false, set verbose to 1, and n_jobs (number of CPU scores used) to a nonzero number. As well as this, I'll try to find the ideal maximum iterations value. "
      ]
    },
    {
      "cell_type": "code",
      "metadata": {
        "colab": {
          "base_uri": "https://localhost:8080/"
        },
        "id": "TE4wr9yMiwrF",
        "outputId": "47e858fa-b866-4f98-d6e9-9f32c281f78d"
      },
      "source": [
        "x = hf.drop(['DEATH_EVENT'], axis = 1)\n",
        "y = hf.DEATH_EVENT\n",
        "training_x, testing_x , training_y, testing_y = train_test_split(x, y, test_size=0.3, random_state=85)\n",
        "lr = LogisticRegression(fit_intercept=False, max_iter=70, verbose = 1, n_jobs = 8)\n",
        "lr.fit(training_x, training_y)\n",
        "lr_train_prediction = lr.predict(training_x)\n",
        "lr_test_prediction = lr.predict(testing_x)\n",
        "print(\"Logistical regression accuracy:\")\n",
        "print(lr.score(testing_x, testing_y))\n",
        "\n",
        "confusion_mat = confusion_matrix(testing_y, lr_test_prediction)\n",
        "accuracy = accuracy_score(testing_y, lr_test_prediction)\n",
        "print(\"Confusion matrix:\")\n",
        "print(confusion_mat)\n",
        "print(\"Accuracy: \" + str(accuracy))\n",
        "\n",
        "report = classification_report(testing_y, lr_test_prediction)\n",
        "print(\"Report of this classification:\")\n",
        "print(report)"
      ],
      "execution_count": null,
      "outputs": [
        {
          "output_type": "stream",
          "text": [
            "[Parallel(n_jobs=8)]: Using backend LokyBackend with 8 concurrent workers.\n"
          ],
          "name": "stderr"
        },
        {
          "output_type": "stream",
          "text": [
            "Logistical regression accuracy:\n",
            "0.8777777777777778\n",
            "Confusion matrix:\n",
            "[[58  7]\n",
            " [ 4 21]]\n",
            "Accuracy: 0.8777777777777778\n",
            "Report of this classification:\n",
            "              precision    recall  f1-score   support\n",
            "\n",
            "           0       0.94      0.89      0.91        65\n",
            "           1       0.75      0.84      0.79        25\n",
            "\n",
            "    accuracy                           0.88        90\n",
            "   macro avg       0.84      0.87      0.85        90\n",
            "weighted avg       0.88      0.88      0.88        90\n",
            "\n"
          ],
          "name": "stdout"
        },
        {
          "output_type": "stream",
          "text": [
            "[Parallel(n_jobs=8)]: Done   1 out of   1 | elapsed:    2.0s finished\n"
          ],
          "name": "stderr"
        }
      ]
    },
    {
      "cell_type": "markdown",
      "metadata": {
        "id": "ltRsRTdLXW2v"
      },
      "source": [
        "The best maximum iterations value (which leads to the highest accuracy) looks to be 70. This leads to an accuracy of 87.8 percent (to 3 signiificant figures), which is a big improvement from earlier. "
      ]
    },
    {
      "cell_type": "code",
      "metadata": {
        "id": "sRxZPvUUYmn3"
      },
      "source": [
        ""
      ],
      "execution_count": null,
      "outputs": []
    }
  ]
}